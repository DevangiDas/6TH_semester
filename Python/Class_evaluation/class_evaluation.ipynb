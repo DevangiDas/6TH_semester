{
 "cells": [
  {
   "cell_type": "code",
   "execution_count": 9,
   "id": "62ce982b",
   "metadata": {},
   "outputs": [
    {
     "name": "stdout",
     "output_type": "stream",
     "text": [
      "          STATEUT       DISTRICT  Year  Rape  KidnappingandAbduction  \\\n",
      "0  ANDHRA PRADESH       ADILABAD  2001    50                      30   \n",
      "1  ANDHRA PRADESH      ANANTAPUR  2001    23                      30   \n",
      "2  ANDHRA PRADESH       CHITTOOR  2001    27                      34   \n",
      "3  ANDHRA PRADESH       CUDDAPAH  2001    20                      20   \n",
      "4  ANDHRA PRADESH  EAST GODAVARI  2001    23                      26   \n",
      "\n",
      "   DowryDeaths  Assaultonwomenwithintenttooutragehermodesty  \\\n",
      "0           16                                          149   \n",
      "1            7                                          118   \n",
      "2           14                                          112   \n",
      "3           17                                          126   \n",
      "4           12                                          109   \n",
      "\n",
      "   InsulttomodestyofWomen  CrueltybyHusbandorhisRelatives  ImportationofGirls  \n",
      "0                      34                             175                   0  \n",
      "1                      24                             154                   0  \n",
      "2                      83                             186                   0  \n",
      "3                      38                              57                   0  \n",
      "4                      58                             247                   0  \n",
      "Enter the state:BIHAR\n",
      "Year: 2001 \n",
      "District :  MUZAFFARPUR\n",
      "Year: 2002 \n",
      "District :  MADHUBANI\n",
      "Year: 2003 \n",
      "District :  MADHUBANI\n",
      "Year: 2004 \n",
      "District :  VAISHALI\n",
      "Year: 2005 \n",
      "District :  PATNA\n",
      "Year: 2006 \n",
      "District :  PATNA\n",
      "Year: 2007 \n",
      "District :  PATNA\n",
      "Year: 2008 \n",
      "District :  PATNA\n",
      "Year: 2009 \n",
      "District :  PATNA\n",
      "Year: 2010 \n",
      "District :  PATNA\n",
      "Year: 2011 \n",
      "District :  DARBHANGA\n",
      "Year: 2012 \n",
      "District :  PATNA\n"
     ]
    }
   ],
   "source": [
    "# 1. Given a state as input determine year-wise the highest crime district.\n",
    "import pandas as pd\n",
    "from matplotlib import pyplot as plt\n",
    "data = pd.read_csv(\"D:/Programing_works/6th_semester_work/Python/Class_evaluation/india-crime.csv\")\n",
    "print(data.head())\n",
    "\n",
    "state = input(\"Enter the state:\")\n",
    "for x in range (1,13):\n",
    "    max = 0\n",
    "    dis = ''\n",
    "    for index, row in data.iterrows():\n",
    "        if row.STATEUT==state and row.Year==2000+x and row.DISTRICT!='TOTAL' and row.DISTRICT!='DELHI UT TOTAL':\n",
    "            if (row.Rape + row.KidnappingandAbduction + row.DowryDeaths + row.Assaultonwomenwithintenttooutragehermodesty + row.InsulttomodestyofWomen + row.CrueltybyHusbandorhisRelatives + row.ImportationofGirls)>max:\n",
    "                max = row.Rape + row.KidnappingandAbduction + row.DowryDeaths + row.Assaultonwomenwithintenttooutragehermodesty + row.InsulttomodestyofWomen + row.CrueltybyHusbandorhisRelatives + row.ImportationofGirls\n",
    "                dis = row.DISTRICT\n",
    "    print(\"Year:\", 2000+x, \"\\nDistrict : \",dis)"
   ]
  },
  {
   "cell_type": "code",
   "execution_count": 10,
   "id": "5de1c685",
   "metadata": {},
   "outputs": [
    {
     "data": {
      "text/plain": [
       "DISTRICT\n",
       "BIEO            1\n",
       "KAWARDHA        1\n",
       "VILUPPURAM      1\n",
       "JHARGRAM        1\n",
       "BAKSA           1\n",
       "             ... \n",
       "WEST           36\n",
       "NORTH          37\n",
       "SOUTH          37\n",
       "G.R.P.         46\n",
       "TOTAL         408\n",
       "Name: STATE/UT, Length: 808, dtype: int64"
      ]
     },
     "execution_count": 10,
     "metadata": {},
     "output_type": "execute_result"
    }
   ],
   "source": [
    "# 2. Determine the state which has improved crime record year by year.\n",
    "import pandas as pd\n",
    "import numpy as np\n",
    "import matplotlib as mpl\n",
    "import matplotlib.pyplot as plt\n",
    "import math\n",
    "\n",
    "# Statistical OLS Regression Analysis\n",
    "%matplotlib inline\n",
    "import statsmodels.api as sm\n",
    "from statsmodels.compat import lzip\n",
    "from statsmodels.formula.api import ols\n",
    "#Scipy sklearn Predictions\n",
    "from sklearn.ensemble import GradientBoostingRegressor\n",
    "df = pd.read_csv(\"D:/Programing_works/6th_semester_work/Python/Class_evaluation/india-crime.csv\")\n",
    "gkk=df.groupby(\"DISTRICT\")[\"STATE/UT\"].count().sort_values()\n",
    "gkk"
   ]
  },
  {
   "cell_type": "code",
   "execution_count": null,
   "id": "55fade5f",
   "metadata": {},
   "outputs": [],
   "source": [
    "import numpy as np\n",
    "import cv2 \n",
    "from matplotlib import pyplot as plt\n",
    "img1 = cv2.imread('D:/Programing_works/6th_semester_work/Python/Class_evaluation/baboon.png',1)\n",
    "gray = cv2.cvtColor(img1.copy(), cv2.COLOR_BGR2GRAY)\n",
    "no_noise = cv2.GaussianBlur(gray,(3,3),0)\n",
    "cv2.imshow(\"Original Image\", img1)\n",
    "edges1 = cv2.Canny(img1,100,200)\n",
    "cv2.imshow(\"Edge Detected Image\", edges1)\n",
    "sobelx = cv2.Sobel(no_noise,cv2.CV_64F,1,0,ksize=5)  # x\n",
    "sobely = cv2.Sobel(no_noise,cv2.CV_64F,0,1,ksize=5)  # y\n",
    "cv2.imshow(\"sobelx\",sobelx)\n",
    "cv2.imshow(\"sobely\",sobely)\n",
    "cv2.imwrite(\"D:/Programing_works/6th_semester_work/Python/Class_evaluation/images/baboon_canny_edge.jpg\",edges1)\n",
    "cv2.imwrite(\"D:/Programing_works/6th_semester_work/Python/Class_evaluation/images/baboon_sobelx.jpg\",sobelx)\n",
    "cv2.imwrite(\"D:/Programing_works/6th_semester_work/Python/Class_evaluation/images/baboon_sobely.jpg\",sobely)\n",
    "cv2.waitKey(0)  # waits until a key is pressed  \n",
    "cv2.destroyAllWindows()  # destroys the window showing image "
   ]
  },
  {
   "cell_type": "code",
   "execution_count": null,
   "id": "a6bef652",
   "metadata": {},
   "outputs": [],
   "source": [
    "import numpy as np\n",
    "import cv2 \n",
    "from matplotlib import pyplot as plt\n",
    "img1 = cv2.imread('D:/Programing_works/6th_semester_work/Python/Class_evaluation/fruit-2999796.jpg',1)\n",
    "gray = cv2.cvtColor(img1.copy(), cv2.COLOR_BGR2GRAY)\n",
    "no_noise = cv2.GaussianBlur(gray,(3,3),0)\n",
    "cv2.imshow(\"Original Image\", img1)\n",
    "edges1 = cv2.Canny(img1,100,200)\n",
    "cv2.imshow(\"Edge Detected Image\", edges1)\n",
    "sobelx = cv2.Sobel(no_noise,cv2.CV_64F,1,0,ksize=5)  # x\n",
    "sobely = cv2.Sobel(no_noise,cv2.CV_64F,0,1,ksize=5)  # y\n",
    "cv2.imshow(\"sobelx\",sobelx)\n",
    "cv2.imshow(\"sobely\",sobely)\n",
    "cv2.imwrite(\"D:/Programing_works/6th_semester_work/Python/Class_evaluation/images/fruit_canny_edge.jpg\",edges1)\n",
    "cv2.imwrite(\"D:/Programing_works/6th_semester_work/Python/Class_evaluation/images/fruit_sobelx.jpg\",sobelx)\n",
    "cv2.imwrite(\"D:/Programing_works/6th_semester_work/Python/Class_evaluation/images/fruit_sobely.jpg\",sobely)\n",
    "cv2.waitKey(0)  # waits until a key is pressed  \n",
    "cv2.destroyAllWindows()  # destroys the window showing image"
   ]
  },
  {
   "cell_type": "code",
   "execution_count": null,
   "id": "76fc8d09",
   "metadata": {},
   "outputs": [],
   "source": [
    "import numpy as np\n",
    "import cv2 \n",
    "from matplotlib import pyplot as plt\n",
    "img1 = cv2.imread('D:/Programing_works/6th_semester_work/Python/Class_evaluation/index.jpg',1)\n",
    "gray = cv2.cvtColor(img1.copy(), cv2.COLOR_BGR2GRAY)\n",
    "no_noise = cv2.GaussianBlur(gray,(3,3),0)\n",
    "cv2.imshow(\"Original Image\", img1)\n",
    "edges1 = cv2.Canny(img1,100,200)\n",
    "cv2.imshow(\"Edge Detected Image\", edges1)\n",
    "sobelx = cv2.Sobel(no_noise,cv2.CV_64F,1,0,ksize=5)  # x\n",
    "sobely = cv2.Sobel(no_noise,cv2.CV_64F,0,1,ksize=5)  # y\n",
    "cv2.imshow(\"sobelx\",sobelx)\n",
    "cv2.imshow(\"sobely\",sobely)\n",
    "cv2.imwrite(\"D:/Programing_works/6th_semester_work/Python/Class_evaluation/images/index_canny_edge.jpg\",edges1)\n",
    "cv2.imwrite(\"D:/Programing_works/6th_semester_work/Python/Class_evaluation/images/index_sobelx.jpg\",sobelx)\n",
    "cv2.imwrite(\"D:/Programing_works/6th_semester_work/Python/Class_evaluation/images/index_sobely.jpg\",sobely)\n",
    "cv2.waitKey(0)  # waits until a key is pressed  \n",
    "cv2.destroyAllWindows()  # destroys the window showing image"
   ]
  },
  {
   "cell_type": "code",
   "execution_count": 7,
   "id": "cc09c39c",
   "metadata": {},
   "outputs": [],
   "source": [
    "import numpy as np\n",
    "import cv2 \n",
    "from matplotlib import pyplot as plt\n",
    "img1 = cv2.imread('D:/Programing_works/6th_semester_work/Python/Class_evaluation/Lenna_(test_image).png',1)\n",
    "gray = cv2.cvtColor(img1.copy(), cv2.COLOR_BGR2GRAY)\n",
    "no_noise = cv2.GaussianBlur(gray,(3,3),0)\n",
    "cv2.imshow(\"Original Image\", img1)\n",
    "edges1 = cv2.Canny(img1,100,200)\n",
    "cv2.imshow(\"Edge Detected Image\", edges1)\n",
    "sobelx = cv2.Sobel(no_noise,cv2.CV_64F,1,0,ksize=5)  # x\n",
    "sobely = cv2.Sobel(no_noise,cv2.CV_64F,0,1,ksize=5)  # y\n",
    "cv2.imshow(\"sobelx\",sobelx)\n",
    "cv2.imshow(\"sobely\",sobely)\n",
    "cv2.imwrite(\"D:/Programing_works/6th_semester_work/Python/Class_evaluation/images/_canny_edge.jpg\",edges1)\n",
    "cv2.imwrite(\"D:/Programing_works/6th_semester_work/Python/Class_evaluation/images/fruit-2999796_sobelx.jpg\",sobelx)\n",
    "cv2.imwrite(\"D:/Programing_works/6th_semester_work/Python/Class_evaluation/images/fruit-2999796_sobely.jpg\",sobely)\n",
    "cv2.waitKey(0)  # waits until a key is pressed  \n",
    "cv2.destroyAllWindows()  # destroys the window showing image"
   ]
  }
 ],
 "metadata": {
  "kernelspec": {
   "display_name": "Python 3 (ipykernel)",
   "language": "python",
   "name": "python3"
  },
  "language_info": {
   "codemirror_mode": {
    "name": "ipython",
    "version": 3
   },
   "file_extension": ".py",
   "mimetype": "text/x-python",
   "name": "python",
   "nbconvert_exporter": "python",
   "pygments_lexer": "ipython3",
   "version": "3.9.13"
  }
 },
 "nbformat": 4,
 "nbformat_minor": 5
}
