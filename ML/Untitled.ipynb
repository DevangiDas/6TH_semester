{
 "cells": [
  {
   "cell_type": "code",
   "execution_count": 2,
   "id": "2334340c",
   "metadata": {},
   "outputs": [
    {
     "name": "stdout",
     "output_type": "stream",
     "text": [
      "Test accuracy: 1.0\n"
     ]
    }
   ],
   "source": [
    "\n",
    "# Load the necessary libraries\n",
    "import pandas as pd\n",
    "from sklearn.model_selection import train_test_split\n",
    "from sklearn.svm import SVC\n",
    " \n",
    "# Load the iris dataset\n",
    "df = pd.read_csv('Iris.csv')\n",
    " \n",
    "# Split the data into features and labels\n",
    "X = df[['SepalLengthCm', 'SepalWidthCm', 'PetalLengthCm', 'PetalWidthCm']]\n",
    "y = df['Species']\n",
    " \n",
    "# Split the data into training and testing sets\n",
    "X_train, X_test, y_train, y_test = train_test_split(X, y, test_size=0.2, random_state=42)\n",
    " \n",
    "# Create an SVM model and train it\n",
    "model = SVC()\n",
    "model.fit(X_train, y_train)\n",
    " \n",
    "# Evaluate the model on the test data\n",
    "accuracy = model.score(X_test, y_test)\n",
    " \n",
    "print('Test accuracy:', accuracy)"
   ]
  },
  {
   "cell_type": "code",
   "execution_count": 4,
   "id": "026de60f",
   "metadata": {},
   "outputs": [
    {
     "name": "stdout",
     "output_type": "stream",
     "text": [
      "[1]\n"
     ]
    }
   ],
   "source": [
    "from sklearn import tree\n",
    " \n",
    "# Training data\n",
    "X = [[140, 1], [130, 1], [150, 0], [170, 0]]  # [weight, texture] (0: smooth, 1: bumpy)\n",
    "y = [0, 0, 1, 1]  # 0: apple, 1: orange\n",
    " \n",
    "# Train a classifier\n",
    "clf = tree.DecisionTreeClassifier()\n",
    "clf = clf.fit(X, y)\n",
    " \n",
    "# Make a prediction\n",
    "prediction = clf.predict([[160, 0]])  # should return 1 (orange)\n",
    "print(prediction)"
   ]
  },
  {
   "cell_type": "code",
   "execution_count": null,
   "id": "308cbd57",
   "metadata": {},
   "outputs": [],
   "source": []
  }
 ],
 "metadata": {
  "kernelspec": {
   "display_name": "Python 3 (ipykernel)",
   "language": "python",
   "name": "python3"
  },
  "language_info": {
   "codemirror_mode": {
    "name": "ipython",
    "version": 3
   },
   "file_extension": ".py",
   "mimetype": "text/x-python",
   "name": "python",
   "nbconvert_exporter": "python",
   "pygments_lexer": "ipython3",
   "version": "3.9.13"
  }
 },
 "nbformat": 4,
 "nbformat_minor": 5
}
